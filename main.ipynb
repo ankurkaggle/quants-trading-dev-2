{
 "cells": [
  {
   "cell_type": "code",
   "execution_count": null,
   "id": "b7ee77f3-f7e9-4dbd-9091-8c0dfebe8dc7",
   "metadata": {},
   "outputs": [],
   "source": [
    "# !pip install nsepython"
   ]
  },
  {
   "cell_type": "code",
   "execution_count": null,
   "id": "d1e1096c",
   "metadata": {},
   "outputs": [],
   "source": [
    "from nsepython import *\n",
    "import json"
   ]
  },
  {
   "cell_type": "code",
   "execution_count": null,
   "id": "cbd4c2a9-8a85-4ed7-b025-3f17153569ea",
   "metadata": {},
   "outputs": [],
   "source": [
    "from pprint import pprint\n",
    "import pandas as pd\n",
    "from datetime import datetime"
   ]
  },
  {
   "cell_type": "code",
   "execution_count": null,
   "id": "30bff973",
   "metadata": {},
   "outputs": [],
   "source": [
    "symbol = \"RELIANCE\"\n",
    "q = nse_quote(symbol)"
   ]
  },
  {
   "cell_type": "code",
   "execution_count": null,
   "id": "8068c5ed",
   "metadata": {
    "scrolled": true
   },
   "outputs": [],
   "source": [
    "q"
   ]
  },
  {
   "cell_type": "code",
   "execution_count": null,
   "id": "6bde1630-79c1-4293-8b1d-8c6190315e6c",
   "metadata": {},
   "outputs": [],
   "source": [
    "with open('data.txt', 'w') as f:\n",
    "    f.write(str(q))"
   ]
  },
  {
   "cell_type": "code",
   "execution_count": null,
   "id": "d04f0dc3-59ed-4732-8bf6-6adf604ffaba",
   "metadata": {},
   "outputs": [],
   "source": [
    "for k in q.keys():\n",
    "    print(k,'\\n','-'*100)\n",
    "    print(q[k])\n",
    "    print('='*100, '\\n')"
   ]
  },
  {
   "cell_type": "code",
   "execution_count": null,
   "id": "bbb0038b-46f4-49ab-8880-c3a6adbefcf9",
   "metadata": {},
   "outputs": [],
   "source": [
    "q['stocks'][0]"
   ]
  },
  {
   "cell_type": "markdown",
   "id": "0f93b1be-1aec-41c8-999a-794f05e94837",
   "metadata": {},
   "source": [
    "### Data Outputter"
   ]
  },
  {
   "cell_type": "code",
   "execution_count": null,
   "id": "3a7669cc-e00e-47eb-a805-80c439c872c2",
   "metadata": {},
   "outputs": [],
   "source": [
    "with open(r\"T:\\Users\\Project_Quant_Trading\\SBIN_daily_data.json\", 'r') as src:\n",
    "    data = json.load(src)"
   ]
  },
  {
   "cell_type": "code",
   "execution_count": null,
   "id": "c460a0cd-0507-42f6-8397-d284ac318103",
   "metadata": {},
   "outputs": [],
   "source": [
    "df = pd.DataFrame(data)"
   ]
  },
  {
   "cell_type": "code",
   "execution_count": null,
   "id": "6f836941-eb0d-4761-80e3-ff85e43bdea2",
   "metadata": {},
   "outputs": [],
   "source": [
    "df['ts'] = df[\"candles\"].explode()\n",
    "\n",
    "df"
   ]
  },
  {
   "cell_type": "code",
   "execution_count": null,
   "id": "e3e0f973-ffe0-46c0-a4b5-1e9e71a34565",
   "metadata": {},
   "outputs": [],
   "source": []
  }
 ],
 "metadata": {
  "kernelspec": {
   "display_name": "e",
   "language": "python",
   "name": "python3"
  },
  "language_info": {
   "codemirror_mode": {
    "name": "ipython",
    "version": 3
   },
   "file_extension": ".py",
   "mimetype": "text/x-python",
   "name": "python",
   "nbconvert_exporter": "python",
   "pygments_lexer": "ipython3",
   "version": "3.12.2"
  }
 },
 "nbformat": 4,
 "nbformat_minor": 5
}
